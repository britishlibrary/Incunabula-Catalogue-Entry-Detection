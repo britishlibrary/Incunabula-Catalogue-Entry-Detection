{
 "cells": [
  {
   "cell_type": "markdown",
   "id": "5354fc4d",
   "metadata": {},
   "source": [
    "# Extracting zipped parsed page xml files"
   ]
  },
  {
   "cell_type": "markdown",
   "id": "574f8a6f",
   "metadata": {},
   "source": [
    "This nb originally extracted the zip files containing the results of Isaac's parsing that were uploaded to the project [github](https://github.com/Southampton-Digital-Humanities/2023_Catalogue-Heading-Detection). Once we took over maintaining the code we've switched to processing the data locally so the zipping is obsolete. The majority of the code is now about parsing the xmls exported from Transkribus using updated versions of the code that Isaac wrote.\n",
    "\n",
    "This is a small test bed for working with the xml element trees in an interactive way."
   ]
  },
  {
   "cell_type": "code",
   "execution_count": null,
   "id": "5cabb5d1",
   "metadata": {},
   "outputs": [],
   "source": [
    "import sys\n",
    "if '../' not in sys.path:\n",
    "    sys.path.append('../')\n",
    "import glob\n",
    "import os\n",
    "from xml.etree import ElementTree as ET\n",
    "from tqdm import tqdm\n",
    "from src.data import xml_extraction as xmle"
   ]
  },
  {
   "cell_type": "markdown",
   "id": "834013f3-ac8a-48b6-9048-1d73d04d977b",
   "metadata": {},
   "source": [
    "## Extracting entries from xmls"
   ]
  },
  {
   "cell_type": "code",
   "execution_count": null,
   "id": "1fee7625-4cba-4082-97f3-0a5b6fa03905",
   "metadata": {},
   "outputs": [],
   "source": [
    "# currently just working w vol 3, i = 3\n",
    "i = 3\n",
    "two_col_loc = f\"..\\\\data\\\\raw\\\\BMC_{i}_2\\\\*\\\\*.pxml\"\n",
    "four_col_loc = f\"..\\\\data\\\\raw\\\\BMC_{i}_4\\\\*\\\\*.pxml\"\n",
    "xmls_2, xmls_4 = xmle.gen_xml_paths(two_col_loc), xmle.gen_xml_paths(four_col_loc)\n",
    "print(f\"{len(xmls_2) + len(xmls_4)} xmls found\\n\"\n",
    "      f\"2 col ({len(xmls_2):03}): {os.path.dirname(xmls_2[0])}\\n4 col ({len(xmls_4):03}): {os.path.dirname(xmls_4[0])}\")"
   ]
  },
  {
   "cell_type": "code",
   "execution_count": null,
   "id": "1eda8434-3e63-4c76-8c5f-b5942c43dcb9",
   "metadata": {},
   "outputs": [],
   "source": [
    "vol_xml_trees = xmle.gen_xml_trees(xmls_2 + xmls_4)"
   ]
  },
  {
   "cell_type": "code",
   "execution_count": null,
   "id": "c088b57a-183b-4dfa-84e4-b2ee902f7a47",
   "metadata": {},
   "outputs": [],
   "source": [
    "for child in vol_xml_trees[\"J_2704_aa_30_3_0049_4\"]:\n",
    "    print(child.tag, child.attrib)"
   ]
  },
  {
   "cell_type": "code",
   "execution_count": null,
   "id": "44a45adc-3aed-4a29-b156-d8c91f5478ba",
   "metadata": {},
   "outputs": [],
   "source": [
    "text_regions = [x for x in vol_xml_trees[\"J_2704_aa_30_3_0049_4\"][1] if len(x) > 2]"
   ]
  },
  {
   "cell_type": "code",
   "execution_count": null,
   "id": "71ef1525-fe4e-43ad-887b-c54feff73961",
   "metadata": {},
   "outputs": [],
   "source": [
    "print(\"\\nExtracting catalogue entries from xmls\")\n",
    "lines, xml_track_df = xmle.extract_lines_for_vol(vol_xml_trees)\n",
    "title_shelfmarks, title_indices, ordered_lines = xmle.find_headings(lines)\n",
    "entry_df = xmle.extract_catalogue_entries(ordered_lines, title_indices, title_shelfmarks, xml_track_df)"
   ]
  }
 ],
 "metadata": {
  "kernelspec": {
   "display_name": "Python [conda env:incu]",
   "language": "python",
   "name": "conda-env-incu-py"
  },
  "language_info": {
   "codemirror_mode": {
    "name": "ipython",
    "version": 3
   },
   "file_extension": ".py",
   "mimetype": "text/x-python",
   "name": "python",
   "nbconvert_exporter": "python",
   "pygments_lexer": "ipython3",
   "version": "3.11.2"
  }
 },
 "nbformat": 4,
 "nbformat_minor": 5
}
