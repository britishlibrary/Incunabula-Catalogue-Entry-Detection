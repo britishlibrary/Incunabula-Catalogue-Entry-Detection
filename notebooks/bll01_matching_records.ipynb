{
 "cells": [
  {
   "cell_type": "markdown",
   "id": "8adebfbd",
   "metadata": {},
   "source": [
    "# Matching records extracted from text to BLL01 Incunabula"
   ]
  },
  {
   "cell_type": "markdown",
   "id": "7edc5f50",
   "metadata": {},
   "source": [
    "Using VM's ss where she matched our extracted records with BLL01"
   ]
  },
  {
   "cell_type": "code",
   "execution_count": null,
   "id": "a4b54864",
   "metadata": {},
   "outputs": [],
   "source": [
    "import sys\n",
    "if \"../\" not in sys.path:\n",
    "    sys.path.append(\"../\")\n",
    "import glob\n",
    "import pandas as pd\n",
    "\n",
    "from src.data.reimport_utils import reconstruct_xmls"
   ]
  },
  {
   "cell_type": "code",
   "execution_count": null,
   "id": "d661c2cd-e09c-4ccb-928f-538d37ce2e48",
   "metadata": {},
   "outputs": [],
   "source": [
    "entry_paths = sorted(glob.glob(\"../data/processed/*/catalogue_entries_v1.4.csv\"), key=lambda x: int(x.split(\"BMC_\")[1].split(\"\\\\\")[0]))"
   ]
  },
  {
   "cell_type": "code",
   "execution_count": null,
   "id": "a09cc2b4-a1e1-41f7-9693-a7c8f6d915eb",
   "metadata": {},
   "outputs": [],
   "source": [
    "entry_dfs = [pd.read_csv(x, converters={\"xmls\": reconstruct_xmls}, encoding=\"utf8\") for x in entry_paths]"
   ]
  },
  {
   "cell_type": "code",
   "execution_count": null,
   "id": "dd115b89-6714-4007-baae-ecd5d6da8289",
   "metadata": {},
   "outputs": [],
   "source": [
    "ocr_records_df = pd.concat(entry_dfs)[[\"xmls\", \"vol_entry_num\", \"shelfmark\", \"entry_text\"]].reset_index(drop=True)\n",
    "ocr_records_df[\"entry_text_spaces\"] = ocr_records_df[\"entry_text\"].str.replace(\"\\n\", \" \")\n",
    "# ocr_records_df = pd.read_csv(\"..\\\\data\\\\processed\\\\all_volume_catalogue_entries_v1.0.csv\", encoding='latin-1', index_col=\"Column1\")\n",
    "bll01_index_df = pd.read_csv(\"..\\\\data\\\\processed\\\\bll01_index.csv\", encoding='utf-8')\n",
    "bll01_index_df.rename(columns={'British Library shelfmark (852 $j)': \"bll01_shelfmark\", 'Record IDs (001)': \"record_id\"}, inplace=True)"
   ]
  },
  {
   "cell_type": "code",
   "execution_count": null,
   "id": "028bb5a3-c2f1-45d4-80d8-4593a50f6f1a",
   "metadata": {
    "scrolled": true
   },
   "outputs": [],
   "source": [
    "ocr_records_df"
   ]
  },
  {
   "cell_type": "code",
   "execution_count": null,
   "id": "fbc261cf-f567-40d0-b15c-833a9e2c94b4",
   "metadata": {},
   "outputs": [],
   "source": [
    "# matched_records_df = pd.read_csv(\"..\\\\data\\\\processed\\\\bll_matching_entries.csv\", encoding='latin-1', index_col=\"index to column1\").sort_index().iloc[:-1]"
   ]
  },
  {
   "cell_type": "code",
   "execution_count": null,
   "id": "4a5a5f18-1d1f-45c4-9851-ae9ace54d99e",
   "metadata": {},
   "outputs": [],
   "source": [
    "# matched_records_df = matched_records_df.set_index(matched_records_df.index.astype(int)).rename(columns={\"shelfmark\": \"raw_shelfmark\", \"normalized shelfmark\": \"norm_shelfmark\"})\n",
    "# matched_records_df = matched_records_df.join(ocr_records_df.loc[:,[\"vol_entry_num\", \"xmls\"]], how=\"left\", rsuffix=\"_ocr\")\n",
    "# matched_records_df.insert(loc=3, column=\"vol_entry_num\", value=matched_records_df[\"vol_entry_num\"] + 1)\n",
    "# matched_records_df.drop(columns=\"volume_entry_num\", inplace=True)"
   ]
  },
  {
   "cell_type": "code",
   "execution_count": null,
   "id": "d63107a3",
   "metadata": {},
   "outputs": [],
   "source": [
    "ocr_records_df.shape, bll01_index_df.shape, # matched_records_df.shape"
   ]
  },
  {
   "cell_type": "code",
   "execution_count": null,
   "id": "e02393ca-b2fc-4e2a-aa32-6cb837195292",
   "metadata": {},
   "outputs": [],
   "source": [
    "ocr_records_df.head()"
   ]
  },
  {
   "cell_type": "markdown",
   "id": "99a901e4-6ec2-4efe-b95e-edba510be554",
   "metadata": {},
   "source": [
    "Going to stop using `norm_shelfmark` from VM's ss. This is `normalized shelfmark` in `bll_matching_entries.csv`. Going to match instead on `shelfmark` from the combined `catalogue_entries_v1.4.csv`, which is the version produced using the latest entry extraction algorithm."
   ]
  },
  {
   "cell_type": "code",
   "execution_count": null,
   "id": "b091c378-a184-4c25-8af8-dc0d43c901a4",
   "metadata": {},
   "outputs": [],
   "source": [
    "ocr_shelfmarks = ocr_records_df[\"shelfmark\"].str.strip()\n",
    "# ocr_shelfmarks = matched_records_df[\"norm_shelfmark\"].str.strip()"
   ]
  },
  {
   "cell_type": "code",
   "execution_count": null,
   "id": "e4796757-aede-4ffc-beaa-35fabceb2822",
   "metadata": {},
   "outputs": [],
   "source": [
    "bll01_index_df[\"bll01_shelfmark\"] = bll01_index_df[\"bll01_shelfmark\"].str.strip()"
   ]
  },
  {
   "cell_type": "code",
   "execution_count": null,
   "id": "e64a132b-d28f-4b60-9b2d-e9e25b68b282",
   "metadata": {},
   "outputs": [],
   "source": [
    "bll_ocr_df = bll01_index_df.merge(ocr_shelfmarks.drop_duplicates(), left_on=\"bll01_shelfmark\", right_on=\"norm_shelfmark\", how=\"left\").rename(columns={\"normalized_shelfmark\": \"normalized_ocr_shelfmark\"})\n",
    "# bll_ocr_df = bll01_index_df.merge(ocr_shelfmarks, left_on=\"bll01_shelfmark\", right_on=\"normalized_shelfmark\", how=\"right\").rename(columns={\"normalized_shelfmark\": \"normalized_ocr_shelfmark\"})"
   ]
  },
  {
   "cell_type": "code",
   "execution_count": null,
   "id": "ba181790-97e2-4382-8fe3-85ae8726a814",
   "metadata": {},
   "outputs": [],
   "source": [
    "bll01_index_df"
   ]
  },
  {
   "cell_type": "code",
   "execution_count": null,
   "id": "b139c162-3f7f-47c7-9a5b-232e9075aaa0",
   "metadata": {},
   "outputs": [],
   "source": [
    "ocr_shelfmarks"
   ]
  },
  {
   "cell_type": "code",
   "execution_count": null,
   "id": "1d75f1d6-04d9-4348-8496-6f0b3b51103d",
   "metadata": {},
   "outputs": [],
   "source": [
    "bll_ocr_df"
   ]
  },
  {
   "cell_type": "code",
   "execution_count": null,
   "id": "a07e4581-82e4-4724-a52e-43d4ceb0c55e",
   "metadata": {},
   "outputs": [],
   "source": [
    "bll_ocr_df.shape"
   ]
  },
  {
   "cell_type": "code",
   "execution_count": null,
   "id": "580ee1fc-af1d-4868-b997-7a5977e2843c",
   "metadata": {},
   "outputs": [],
   "source": [
    "# ocr_bll_df.to_csv(\"..\\\\data\\\\processed\\\\ocr_bll.csv\", index=False)\n",
    "# bll_ocr_df.to_csv(\"..\\\\data\\\\processed\\\\bll_ocr.csv\", index=False)"
   ]
  },
  {
   "cell_type": "markdown",
   "id": "7abcdd37-5864-4daf-8df9-f1401530cde0",
   "metadata": {},
   "source": [
    "### Creating Tkb page col lookup"
   ]
  },
  {
   "cell_type": "markdown",
   "id": "4386cdee-e71c-4e9d-ae48-96caf832c199",
   "metadata": {},
   "source": [
    "Adding a column that converts the xml name to a page number in the Tkb collection"
   ]
  },
  {
   "cell_type": "code",
   "execution_count": null,
   "id": "320447b5-d68b-443e-8429-790a87cff4d1",
   "metadata": {},
   "outputs": [],
   "source": [
    "# all the xml ids present on tkb - if the code didn't find a shelfmark in an xml it won't be represented in matched_records\n",
    "# use the complete list to convert our incomplete list into page numbers on tkb\n",
    "with open(\"..\\\\data\\\\interim\\\\all_xml_ids.txt\", \"r\") as f:\n",
    "    xml_ids = [x.strip(\"\\n\") for x in f.readlines()]"
   ]
  },
  {
   "cell_type": "code",
   "execution_count": null,
   "id": "5f814751-087b-4a3a-bd9d-2f195e9b8c90",
   "metadata": {},
   "outputs": [],
   "source": [
    "xml_ids[:5]"
   ]
  },
  {
   "cell_type": "code",
   "execution_count": null,
   "id": "c728bf06-0851-434d-bf75-dbe949653e33",
   "metadata": {},
   "outputs": [],
   "source": [
    "# check all our xmls are present in the complete list\n",
    "set(ocr_records_df[\"xmls\"].sum()) <= set(xml_ids)\n",
    "# matched_records_df[\"xml\"].apply(lambda x: x in xml_ids).all()"
   ]
  },
  {
   "cell_type": "code",
   "execution_count": null,
   "id": "4a9486cc-4f2e-4216-b853-b7bdf4bf0ca9",
   "metadata": {},
   "outputs": [],
   "source": [
    "all_xml_df = pd.DataFrame({\"xml\":xml_ids})\n",
    "\n",
    "all_xml_df[\"vol\"] = all_xml_df[\"xml\"].str.split(\"_\").apply(lambda x: int(x[4]))\n",
    "all_xml_df[\"raw_tkb_page\"] = all_xml_df[\"xml\"].str.split(\"_\").apply(lambda x: int(x[5]))\n",
    "all_xml_df[\"num_cols\"] = all_xml_df[\"xml\"].str.split(\"_\").apply(lambda x: int(x[6]))\n",
    "all_xml_df.sort_values(by=[\"vol\", \"num_cols\", \"raw_tkb_page\"], inplace=True)\n",
    "all_xml_df[\"tkb_page\"] = all_xml_df.groupby(by=[\"vol\", \"num_cols\"])[\"raw_tkb_page\"].transform(lambda x: (x.diff() > 0).cumsum() + 1)\n",
    "all_xml_df = all_xml_df.set_index(\"xml\")"
   ]
  },
  {
   "cell_type": "code",
   "execution_count": null,
   "id": "cc8440b1-34d0-4717-9461-af70560ccdd7",
   "metadata": {},
   "outputs": [],
   "source": [
    "all_xml_df.query(\"vol == 9 & num_cols == 4\").head()"
   ]
  },
  {
   "cell_type": "code",
   "execution_count": null,
   "id": "beecc1df-d477-4da1-8744-30c6ad1a7899",
   "metadata": {},
   "outputs": [],
   "source": [
    "# all_xml_df.to_csv(\"..\\\\data\\\\processed\\\\xml_tkb_conversion_table.csv\")"
   ]
  },
  {
   "cell_type": "markdown",
   "id": "de7bad77-4f4d-4914-9548-44145e2ac8ac",
   "metadata": {},
   "source": [
    "### Using Tkb page col lookup"
   ]
  },
  {
   "cell_type": "code",
   "execution_count": null,
   "id": "aa19c085-dcf0-4272-8b5e-c8bf262ba043",
   "metadata": {},
   "outputs": [],
   "source": [
    "all_xml_df = pd.read_csv(\"..\\\\data\\\\processed\\\\xml_tkb_conversion_table.csv\", index_col=0)"
   ]
  },
  {
   "cell_type": "code",
   "execution_count": null,
   "id": "c8250c0a-2fe5-4fe4-a64f-d0a2ac0af97c",
   "metadata": {},
   "outputs": [],
   "source": [
    "vol = pd.merge(ocr_records_df[\"xmls\"].apply(lambda x: x[0]), all_xml_df.drop(columns=\"raw_tkb_page\"), how=\"left\", left_on=\"xmls\", right_on=\"xml\")[\"vol\"]\n",
    "xmls_long = pd.merge(ocr_records_df[\"xmls\"].explode().reset_index(), all_xml_df.drop(columns=\"raw_tkb_page\"), how=\"left\", left_on=\"xmls\", right_on=\"xml\")\n",
    "xmls_long[\"col_pages\"] = xmls_long[\"num_cols\"].astype(str) + \"-\" + xmls_long[\"tkb_page\"].astype(str) + \", \"\n",
    "col_pages = xmls_long.groupby(by=\"index\")[\"col_pages\"].sum().str.strip(\" \")"
   ]
  },
  {
   "cell_type": "code",
   "execution_count": null,
   "id": "669c6bed-4a89-4bcc-b361-3b5368606b55",
   "metadata": {},
   "outputs": [],
   "source": [
    "ocr_records_df[\"vol\"] = vol\n",
    "ocr_records_df[\"col_pages\"] = col_pages"
   ]
  },
  {
   "cell_type": "code",
   "execution_count": null,
   "id": "3698bb29-4ecd-4a7e-ac6a-5037b775c082",
   "metadata": {},
   "outputs": [],
   "source": [
    "matched_records_merged_df = ocr_records_df.merge(right=bll01_index_df, how=\"left\", left_on=\"shelfmark\", right_on=\"bll01_shelfmark\")\n",
    "matched_records_merged_df = matched_records_merged_df[[\n",
    "    'xmls', 'vol', 'col_pages', 'vol_entry_num', 'shelfmark', 'bll01_shelfmark', 'record_id', 'uncaptured_sm', 'entry_text', \"entry_text_spaces\"\n",
    "]]"
   ]
  },
  {
   "cell_type": "code",
   "execution_count": null,
   "id": "195a5e53-e62b-4306-aacc-795c2721eea8",
   "metadata": {
    "scrolled": true
   },
   "outputs": [],
   "source": [
    "matched_records_merged_df"
   ]
  },
  {
   "cell_type": "markdown",
   "id": "485170c4-cc59-4c2a-b545-71dad95cfc64",
   "metadata": {},
   "source": [
    "### Export"
   ]
  },
  {
   "cell_type": "code",
   "execution_count": null,
   "id": "d8895d5a-e7d9-4e12-90cb-ff73a68f07b3",
   "metadata": {},
   "outputs": [],
   "source": [
    "# matched_records_merged_df.to_csv(\"..\\\\data\\\\processed\\\\incu_ocr_bll_matching_v1.4.csv\", encoding=\"utf-8-sig\")"
   ]
  },
  {
   "cell_type": "markdown",
   "id": "12e84e0d-89fe-4fe3-9063-7b8ed0258b78",
   "metadata": {},
   "source": [
    "Then add these sheets manually\n",
    "- BLL01 Index (the complete index of Incunabula in BLL01)\n",
    "- Missed BLL01 Shelfmarks (Recording for missing shelfmarks and the reason for them being missing)\n",
    "- Workflow (documentation of the workflow)\n",
    "- Data Dictionary (explanation of columns)"
   ]
  },
  {
   "cell_type": "markdown",
   "id": "160ae3a8-841c-485d-ad7d-c7e3d5fa67ce",
   "metadata": {},
   "source": [
    "### Label matched extracted shelfmarks"
   ]
  },
  {
   "cell_type": "markdown",
   "id": "6855e67d-c3c1-45ea-96ac-41b539649ef8",
   "metadata": {},
   "source": [
    "Helpful in the matching spreadsheet to have a column against the complete list of BLL01 Incunabula shelfmarks that marks which ones have been succesfully extracted by the detection algorithm."
   ]
  },
  {
   "cell_type": "code",
   "execution_count": null,
   "id": "2fb5cc37-f01b-4f6d-a266-7437fde0f69f",
   "metadata": {},
   "outputs": [],
   "source": [
    "found_by = pd.Series(1, index=matched_records_merged_df[\"bll01_shelfmark\"].dropna()).rename(\"found_by_algorithm\")"
   ]
  },
  {
   "cell_type": "code",
   "execution_count": null,
   "id": "bc88f039-1a2c-4ba3-ba12-5a5fbfc3247e",
   "metadata": {},
   "outputs": [],
   "source": [
    "found_by.shape"
   ]
  },
  {
   "cell_type": "code",
   "execution_count": null,
   "id": "4b8109fb-7ca8-4c91-8dd3-fb729356113f",
   "metadata": {},
   "outputs": [],
   "source": [
    "bll01_index = pd.read_csv(\"../data/processed/bll01_index.csv\", encoding=\"utf8\", index_col=0)"
   ]
  },
  {
   "cell_type": "code",
   "execution_count": null,
   "id": "fa8d295e-0a92-4856-b63d-9f8de6b4f1d3",
   "metadata": {},
   "outputs": [],
   "source": [
    "# this must be true otherwise we've lost shelfmarks somewhere\n",
    "assert found_by.shape == bll01_index.join(found_by)[\"found_by_algorithm\"].dropna().shape"
   ]
  },
  {
   "cell_type": "code",
   "execution_count": null,
   "id": "c35792ae-ec16-44b2-8950-b733e70ab1da",
   "metadata": {},
   "outputs": [],
   "source": [
    "bll01_index = bll01_index.join(found_by)\n",
    "bll01_index[\"found_by_algorithm\"] = bll01_index[\"found_by_algorithm\"].fillna(0).astype(int)"
   ]
  },
  {
   "cell_type": "code",
   "execution_count": null,
   "id": "0e789b31-86f9-460b-b92f-e4ca195973bc",
   "metadata": {},
   "outputs": [],
   "source": [
    "bll01_index.to_csv(\"../data/processed/bll01_index.csv\", encoding=\"utf8\")"
   ]
  },
  {
   "cell_type": "markdown",
   "id": "5e47d1a1-da38-41be-9873-fdf8365f4ab1",
   "metadata": {},
   "source": [
    "### Preserving VMs shelfmark extraction in compressed form"
   ]
  },
  {
   "cell_type": "code",
   "execution_count": null,
   "id": "db18b615-bb2a-4764-8368-a242da16c217",
   "metadata": {},
   "outputs": [],
   "source": [
    "compressed_shelfmark_rec_ids = matched_records_df.loc[:, \"Shelfmark 1\":].agg(\n",
    "    lambda x: [[y, z] for y, z in zip(x[::2], x[1::2]) if type(y) == str], axis=1\n",
    ").rename(\"shelfmarks_in_entry_text\")"
   ]
  },
  {
   "cell_type": "code",
   "execution_count": null,
   "id": "cf438a59-f90a-4554-a7c9-3f18ece2bd64",
   "metadata": {},
   "outputs": [],
   "source": [
    "compressed_shelfmark_rec_ids\n",
    "# matched_records_tkb_page_df[\"vm_shelfmark_rec_id_matching\"] = compressed_shelfmark_rec_ids"
   ]
  },
  {
   "cell_type": "code",
   "execution_count": null,
   "id": "418e2828-c63c-4e0f-9063-3a3693d7f5d5",
   "metadata": {},
   "outputs": [],
   "source": [
    "# check we've as many shelfmarks in the compressed as non-compressed\n",
    "counts = matched_records_df.loc[:, \"Shelfmark 1\":].agg(lambda x: x.dropna().shape[0])\n",
    "counts.iloc[::2].sum(), len(compressed_shelfmark_rec_ids.sum())"
   ]
  },
  {
   "cell_type": "code",
   "execution_count": null,
   "id": "c1378251-90c7-4fb2-8b2b-f4afdf0774f0",
   "metadata": {},
   "outputs": [],
   "source": [
    "# check we've as many record ids in the compressed as the non-compressed\n",
    "# not quite correct but then not really using this data anyway\n",
    "counts.iloc[1::2].sum(), len([x[1] for x in compressed_shelfmark_rec_ids.sum() if type(x[1]) == str])"
   ]
  }
 ],
 "metadata": {
  "kernelspec": {
   "display_name": "Python [conda env:incu]",
   "language": "python",
   "name": "conda-env-incu-py"
  },
  "language_info": {
   "codemirror_mode": {
    "name": "ipython",
    "version": 3
   },
   "file_extension": ".py",
   "mimetype": "text/x-python",
   "name": "python",
   "nbconvert_exporter": "python",
   "pygments_lexer": "ipython3",
   "version": "3.11.2"
  }
 },
 "nbformat": 4,
 "nbformat_minor": 5
}
