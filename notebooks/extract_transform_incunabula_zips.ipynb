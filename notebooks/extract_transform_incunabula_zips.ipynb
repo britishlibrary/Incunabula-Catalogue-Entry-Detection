{
 "cells": [
  {
   "cell_type": "markdown",
   "id": "5354fc4d",
   "metadata": {},
   "source": [
    "# Extracting zipped parsed page xml files"
   ]
  },
  {
   "cell_type": "markdown",
   "id": "574f8a6f",
   "metadata": {},
   "source": [
    "This nb extracts the zip files containing the results of Isaac's parsing that were uploaded to the project [github](https://github.com/Southampton-Digital-Humanities/2023_Catalogue-Heading-Detection)"
   ]
  },
  {
   "cell_type": "code",
   "execution_count": null,
   "id": "5cabb5d1",
   "metadata": {},
   "outputs": [],
   "source": [
    "import sys\n",
    "if '../' not in sys.path:\n",
    "    sys.path.append('../')\n",
    "import zipfile\n",
    "import glob\n",
    "import os\n",
    "from tqdm import tqdm"
   ]
  },
  {
   "cell_type": "markdown",
   "id": "68affd28",
   "metadata": {},
   "source": [
    "### Extract zips"
   ]
  },
  {
   "cell_type": "code",
   "execution_count": null,
   "id": "6c1e7834",
   "metadata": {},
   "outputs": [],
   "source": [
    "ic_data_path = \"\\\\\\\\ad\\\\collections\\\\TwoCenturies\\\\TwoCenturies IV\\\\Incunabula\\\\split_data\""
   ]
  },
  {
   "cell_type": "code",
   "execution_count": null,
   "id": "5a4fb76d",
   "metadata": {},
   "outputs": [],
   "source": [
    "done_zips = glob.glob(\"\\\\\\\\ad\\\\collections\\\\TwoCenturies\\\\TwoCenturies IV\\\\Incunabula\\\\split_data\\\\*\")\n",
    "done_zips"
   ]
  },
  {
   "cell_type": "code",
   "execution_count": null,
   "id": "94abd145",
   "metadata": {},
   "outputs": [],
   "source": [
    "zips = glob.glob(\"..\\\\data\\\\*.zip\")\n",
    "zips"
   ]
  },
  {
   "cell_type": "code",
   "execution_count": null,
   "id": "5a783bc0",
   "metadata": {},
   "outputs": [],
   "source": [
    "to_do = [z for z in zips if os.path.join(ic_data_path, z[8:-4]) not in done_zips]\n",
    "to_do"
   ]
  },
  {
   "cell_type": "code",
   "execution_count": null,
   "id": "34cac1e2",
   "metadata": {},
   "outputs": [],
   "source": [
    "for z in to_do:\n",
    "    with zipfile.ZipFile(z, 'r') as zf:\n",
    "        folder = os.path.basename(z)\n",
    "        output_folder = f\"\\\\\\\\ad\\\\collections\\\\TwoCenturies\\\\TwoCenturies IV\\\\Incunabula\\\\split_data\\\\{folder[:-4]}\"\n",
    "        if not os.path.exists(output_folder):\n",
    "            os.mkdir(output_folder)\n",
    "        zf.extractall(output_folder)"
   ]
  },
  {
   "cell_type": "markdown",
   "id": "49e6aa17",
   "metadata": {},
   "source": [
    "### Rename download jobs"
   ]
  },
  {
   "cell_type": "code",
   "execution_count": null,
   "id": "67e9c9e4",
   "metadata": {},
   "outputs": [],
   "source": [
    "with open(\"..\\\\export_job_rename_dict.txt\") as f:  # .txt was a result of massaging the pairings out of Rossitza's .xlsx\n",
    "    rename_lines = f.readlines()\n",
    "    rename_split = [x.split(\":\") for x in rename_lines]\n",
    "    rename_dict = {x[0]:x[1].strip(\"\\n\") for x in rename_split}\n",
    "    \n",
    "rename_dict"
   ]
  },
  {
   "cell_type": "code",
   "execution_count": null,
   "id": "0eb6bedc",
   "metadata": {},
   "outputs": [],
   "source": [
    "# for folder in done_zips:\n",
    "#     renamed = os.path.join(os.path.dirname(folder), export_dict[os.path.basename(folder)])\n",
    "#     os.rename(folder, renamed)"
   ]
  },
  {
   "cell_type": "markdown",
   "id": "1ccb58d0",
   "metadata": {},
   "source": [
    "### Combine txt files"
   ]
  },
  {
   "cell_type": "code",
   "execution_count": null,
   "id": "84dba728",
   "metadata": {},
   "outputs": [],
   "source": [
    "done_zips = glob.glob(\"\\\\\\\\ad\\\\collections\\\\TwoCenturies\\\\TwoCenturies IV\\\\Incunabula\\\\split_data\\\\*\")\n",
    "done_zips"
   ]
  },
  {
   "cell_type": "code",
   "execution_count": null,
   "id": "f09f363f",
   "metadata": {},
   "outputs": [],
   "source": [
    "done_zips[5:6]"
   ]
  },
  {
   "cell_type": "markdown",
   "id": "76565f3d",
   "metadata": {},
   "source": [
    "#### TODO\n",
    "Combine both these writes into one step to avoid having to read the files twice"
   ]
  },
  {
   "cell_type": "code",
   "execution_count": null,
   "id": "7d0f128f",
   "metadata": {},
   "outputs": [],
   "source": [
    "for f in done_zips[5:6]:\n",
    "    txts = glob.glob(os.path.join(f, \"rawtextfiles\\\\*.txt\"))\n",
    "    with open(os.path.join(f, \"combinedrawtext.txt\"), \"w\") as outfile:\n",
    "        for t in tqdm(txts):\n",
    "            with open(t) as infile:\n",
    "                entry = infile.read()\n",
    "                outfile.write(entry)\n",
    "                outfile.write(\"\\n\\n\")"
   ]
  },
  {
   "cell_type": "code",
   "execution_count": null,
   "id": "005d8b9a",
   "metadata": {},
   "outputs": [],
   "source": [
    "for f in done_zips[5:6]:\n",
    "    print(f\"Combining  {f}\")\n",
    "    txts = glob.glob(os.path.join(f, \"splittextfiles\\\\*.txt\"))\n",
    "    with open(os.path.join(f, \"combinedsplittext.txt\"), \"w\") as outfile:\n",
    "        for t in tqdm(txts):\n",
    "            with open(t) as infile:\n",
    "                entry = infile.readlines()\n",
    "                no_lines_entry = [x for x in entry if '------------------------' not in x]\n",
    "                english_only_entry = [y for y in no_lines_entry if \"NON-ENGLISH SECTION LASTING\" not in y]\n",
    "                out_str = \"\"\n",
    "                for l in english_only_entry:\n",
    "                    out_str += l\n",
    "                outfile.write(out_str)\n",
    "                outfile.write(\"\\n\\n\")"
   ]
  }
 ],
 "metadata": {
  "kernelspec": {
   "display_name": "Python [conda env:incu]",
   "language": "python",
   "name": "conda-env-incu-py"
  },
  "language_info": {
   "codemirror_mode": {
    "name": "ipython",
    "version": 3
   },
   "file_extension": ".py",
   "mimetype": "text/x-python",
   "name": "python",
   "nbconvert_exporter": "python",
   "pygments_lexer": "ipython3",
   "version": "3.11.2"
  }
 },
 "nbformat": 4,
 "nbformat_minor": 5
}
