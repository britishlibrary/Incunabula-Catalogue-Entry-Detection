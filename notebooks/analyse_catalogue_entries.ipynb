{
 "cells": [
  {
   "cell_type": "markdown",
   "id": "531c846c",
   "metadata": {},
   "source": [
    "# Extracted Catalogue Entry Analysis"
   ]
  },
  {
   "cell_type": "markdown",
   "id": "cdf50aac",
   "metadata": {},
   "source": [
    "Analyse catalogue entries extracted by main.py or extract_catalogue_entries.ipynb."
   ]
  },
  {
   "cell_type": "code",
   "execution_count": null,
   "id": "2720f7f5",
   "metadata": {},
   "outputs": [],
   "source": [
    "import sys\n",
    "if \"../\" not in sys.path:\n",
    "    sys.path.append(\"../\")\n",
    "import glob\n",
    "import pandas as pd\n",
    "import matplotlib.pyplot as plt"
   ]
  },
  {
   "cell_type": "code",
   "execution_count": null,
   "id": "9ddf39b9",
   "metadata": {},
   "outputs": [],
   "source": [
    "csv_path = r\"\\\\ad\\collections\\TwoCenturies\\TwoCenturies IV\\Incunabula\\split_data\\BMC_[0-9]*\\catalogue_entries.csv\"\n",
    "entry_csv_paths = glob.glob(csv_path)"
   ]
  },
  {
   "cell_type": "code",
   "execution_count": null,
   "id": "153a6217",
   "metadata": {},
   "outputs": [],
   "source": [
    "entry_csvs = {p.split(\"\\\\\")[-2]: pd.read_csv(p, converters={\"entry\": lambda x: x[2:-2].split(\"\\', \\'\")}) for p in entry_csv_paths}"
   ]
  },
  {
   "cell_type": "code",
   "execution_count": null,
   "id": "536e2b61",
   "metadata": {},
   "outputs": [],
   "source": [
    "for vol, df in entry_csvs.items():\n",
    "    df[\"vol\"] = int(vol.split(\"_\")[-1])"
   ]
  },
  {
   "cell_type": "code",
   "execution_count": null,
   "id": "d0e2fa68",
   "metadata": {},
   "outputs": [],
   "source": [
    "entry_df = pd.concat(list(entry_csvs.values())).rename_axis(index=\"volume_entry_num\").reset_index()"
   ]
  },
  {
   "cell_type": "code",
   "execution_count": null,
   "id": "ae60339b",
   "metadata": {},
   "outputs": [],
   "source": [
    "entry_df[\"entry_length\"] = entry_df[\"entry_text\"].transform(lambda x: len(x))"
   ]
  },
  {
   "cell_type": "code",
   "execution_count": null,
   "id": "5001bc92",
   "metadata": {},
   "outputs": [],
   "source": [
    "entry_df.head()"
   ]
  },
  {
   "cell_type": "code",
   "execution_count": null,
   "id": "39611208",
   "metadata": {},
   "outputs": [],
   "source": [
    "ma = entry_df[\"entry_length\"].rolling(window=100, center=True).mean()\n",
    "mean = entry_df.groupby(by=\"vol\")[\"entry_length\"].mean()"
   ]
  },
  {
   "cell_type": "code",
   "execution_count": null,
   "id": "ebe923d2",
   "metadata": {},
   "outputs": [],
   "source": [
    "# mean.rename_axis(\"Volume\").rename(\"Mean Entry Length\").to_csv(\"..\\\\data\\\\processed\\\\mean_lengths.csv\")"
   ]
  },
  {
   "cell_type": "code",
   "execution_count": null,
   "id": "57af9cc1",
   "metadata": {},
   "outputs": [],
   "source": [
    "n_entrys = entry_df.groupby(by=\"vol\")[\"vol\"].count()\n",
    "n_entrys.loc[0] = 0\n",
    "n_entrys.sort_index(inplace=True)\n",
    "x_locs = n_entrys.cumsum() - n_entrys.cumsum().diff()/2"
   ]
  },
  {
   "cell_type": "code",
   "execution_count": null,
   "id": "106bec28",
   "metadata": {},
   "outputs": [],
   "source": [
    "fig, ax = plt.subplots(figsize=(12,8))\n",
    "ax.plot(entry_df[\"entry_length\"], lw=1)\n",
    "ax.plot(ma, \"black\", label=\"Moving average\")\n",
    "ax.set_title(\"Catalogue Entry Length For Incunabula Volumes 1-10\", fontsize='x-large')\n",
    "ax.set_xlabel(\"Catalogue Entry Number (across all volumes)\", fontsize='x-large')\n",
    "ax.set_ylabel(\"Entry length (characters)\", fontsize='x-large')\n",
    "ax.tick_params(labelsize='large')\n",
    "ax.vlines(n_entrys.cumsum(), 0, ax.get_ylim()[1], colors=\"black\", linestyles=\"--\")\n",
    "ax.set_xlim(0, len(entry_df))\n",
    "ax.set_ylim(0, entry_df[\"entry_length\"].max() + 100)\n",
    "for i, x in enumerate(x_locs.dropna()[:8]):\n",
    "    ax.text(x, 10600, f\"BMC {i+1}\\n$\\mu$: {mean.loc[i+1]:.0f}\", ha=\"center\")\n",
    "    \n",
    "\n",
    "ax.text(x_locs[9], 10600, f\"BMC {9}\", rotation=\"vertical\", ha=\"center\")\n",
    "ax.text(x_locs[10], 10600, f\"BMC {10}\", rotation=\"vertical\", ha=\"center\")\n",
    "ax.text(x_locs[9], 9100, f\"$\\mu$: {mean.loc[9]:.0f}\", rotation=\"vertical\", ha=\"center\")\n",
    "ax.text(x_locs[10], 9100, f\"$\\mu$: {mean.loc[10]:.0f}\", rotation=\"vertical\", ha=\"center\")\n",
    "ax.legend()"
   ]
  },
  {
   "cell_type": "code",
   "execution_count": null,
   "id": "c3d8cc8a",
   "metadata": {},
   "outputs": [],
   "source": [
    "# fig.savefig(\"..\\\\reports\\\\figures\\\\entry_length.png\", dpi=300, bbox_inches=\"tight\")"
   ]
  }
 ],
 "metadata": {
  "kernelspec": {
   "display_name": "Python [conda env:incu]",
   "language": "python",
   "name": "conda-env-incu-py"
  },
  "language_info": {
   "codemirror_mode": {
    "name": "ipython",
    "version": 3
   },
   "file_extension": ".py",
   "mimetype": "text/x-python",
   "name": "python",
   "nbconvert_exporter": "python",
   "pygments_lexer": "ipython3",
   "version": "3.11.2"
  }
 },
 "nbformat": 4,
 "nbformat_minor": 5
}
